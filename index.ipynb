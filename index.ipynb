{
 "cells": [
  {
   "cell_type": "markdown",
   "metadata": {},
   "source": [
    "# Properties of Dot Product - Lab\n",
    "\n",
    "## Introduction\n",
    "\n",
    "In this lab, you'll be practicing some interesting properties of a dot product-type matrix multiplication. Understanding these properties will become useful as you study machine learning. The lab will require you to calculate results to provide a proof for these properties.\n",
    "\n",
    "## Objectives\n",
    "\n",
    "In this lab you will: \n",
    "\n",
    "- Demonstrate the distributive, commutative, and associative property of dot products \n",
    "- Use the transpose method to transpose Numpy matrices \n",
    "- Compute the dot product for matrices and vectors \n",
    "\n",
    "\n",
    "## Instructions\n",
    "\n",
    "* For each property, create suitably sized matrices with random data to prove the equations \n",
    "* Ensure that size/dimension assumptions are met while performing calculations (you'll see errors otherwise)\n",
    "* Calculate the LHS and RHS for all equations and show if they are equal or not\n",
    "\n",
    "## Distributive Property - matrix multiplication IS distributive\n",
    "\n",
    "### Prove that $A \\cdot (B+C) = (A \\cdot B + A \\cdot C) $"
   ]
  },
  {
   "cell_type": "code",
   "execution_count": 5,
   "metadata": {},
   "outputs": [
    {
     "name": "stdout",
     "output_type": "stream",
     "text": [
      "[[ 72  78  84]\n",
      " [164 178 192]\n",
      " [256 278 300]]\n",
      "\n",
      " is equal to \n",
      "\n",
      "[[ 72  78  84]\n",
      " [164 178 192]\n",
      " [256 278 300]]\n"
     ]
    }
   ],
   "source": [
    "import numpy as np\n",
    "A=np.array([[1,2],[3,4],[5,6]])\n",
    "B=np.array([[7,8,9],[10,11,12]])\n",
    "C=np.array([[13,14,15],[16,17,18]])\n",
    "\n",
    "sum_of_BC=B+C\n",
    "A_times_sum=np.dot(A,sum_of_BC)\n",
    "A_times_B=np.dot(A,B)\n",
    "A_times_C=np.dot(A,C)\n",
    "sum_of_products=A_times_B+A_times_C\n",
    "\n",
    "print(A_times_sum)\n",
    "print('\\n is equal to \\n')\n",
    "print(sum_of_products)"
   ]
  },
  {
   "cell_type": "markdown",
   "metadata": {},
   "source": [
    "## Associative Property - matrix multiplication IS associative\n",
    "### Prove that $A \\cdot (B \\cdot C) = (A \\cdot B) \\cdot C $"
   ]
  },
  {
   "cell_type": "code",
   "execution_count": 6,
   "metadata": {},
   "outputs": [
    {
     "name": "stdout",
     "output_type": "stream",
     "text": [
      "[[1362 1452]\n",
      " [3088 3292]\n",
      " [4814 5132]]\n",
      "\n",
      " is equal to \n",
      "\n",
      "[[1362 1452]\n",
      " [3088 3292]\n",
      " [4814 5132]]\n"
     ]
    }
   ],
   "source": [
    "C=([[13,14],[15,16],[17,18]])\n",
    "B_times_C=np.dot(B,C)\n",
    "A_times_product=np.dot(A,B_times_C)\n",
    "\n",
    "A_times_B=np.dot(A,B)\n",
    "product_times_C=np.dot(A_times_B,C)\n",
    "\n",
    "print(A_times_product)\n",
    "print('\\n is equal to \\n')\n",
    "print(product_times_C)"
   ]
  },
  {
   "cell_type": "markdown",
   "metadata": {},
   "source": [
    "## Commutative Property - matrix multiplication is NOT commutative\n",
    "### Prove that for matrices, $A \\cdot B \\neq B \\cdot A $"
   ]
  },
  {
   "cell_type": "code",
   "execution_count": 7,
   "metadata": {},
   "outputs": [
    {
     "name": "stdout",
     "output_type": "stream",
     "text": [
      "[[ 27  30  33]\n",
      " [ 61  68  75]\n",
      " [ 95 106 117]]\n",
      "\n",
      " is not equal to \n",
      "\n",
      "[[ 76 100]\n",
      " [103 136]]\n"
     ]
    }
   ],
   "source": [
    "# Your code here \n",
    "A_times_B=np.dot(A,B)\n",
    "B_times_A=np.dot(B,A)\n",
    "\n",
    "print(A_times_B)\n",
    "print('\\n is not equal to \\n')\n",
    "print(B_times_A)"
   ]
  },
  {
   "cell_type": "markdown",
   "metadata": {},
   "source": [
    "## Commutative Property -  vector multiplication IS commutative\n",
    "### Prove that for vectors,  $x^T \\cdot y = y^T \\cdot x$\n",
    "Note: superscipt<sup>T</sup> denotes the transpose we saw earlier"
   ]
  },
  {
   "cell_type": "code",
   "execution_count": 8,
   "metadata": {},
   "outputs": [
    {
     "name": "stdout",
     "output_type": "stream",
     "text": [
      "[ 4 10 18]\n",
      "\n",
      "is equal to\n",
      "\n",
      "[ 4 10 18]\n"
     ]
    }
   ],
   "source": [
    "x=np.array([1,2,3])\n",
    "y=np.array([4,5,6])\n",
    "\n",
    "x_transpose=x.T\n",
    "y_transpose=y.T\n",
    "\n",
    "x_transpose_y=x_transpose*y\n",
    "y_transpose_x=y_transpose*x\n",
    "\n",
    "print(x_transpose_y)\n",
    "print('\\nis equal to\\n')\n",
    "print(y_transpose_x)"
   ]
  },
  {
   "cell_type": "markdown",
   "metadata": {},
   "source": [
    "## Simplification of the matrix product\n",
    "### Prove that $ (A \\cdot B)^T = B^T \\cdot A^T $"
   ]
  },
  {
   "cell_type": "code",
   "execution_count": 9,
   "metadata": {},
   "outputs": [
    {
     "name": "stdout",
     "output_type": "stream",
     "text": [
      "[[ 27  61  95]\n",
      " [ 30  68 106]\n",
      " [ 33  75 117]]\n",
      "\n",
      " is equal to \n",
      "\n",
      "[[ 27  61  95]\n",
      " [ 30  68 106]\n",
      " [ 33  75 117]]\n"
     ]
    }
   ],
   "source": [
    "product=np.dot(A,B)\n",
    "product_transposed=product.T\n",
    "\n",
    "B_transpose=B.T\n",
    "A_transpose=A.T\n",
    "transpose_product=np.dot(B_transpose,A_transpose)\n",
    "\n",
    "print(product_transposed)\n",
    "print('\\n is equal to \\n')\n",
    "print(transpose_product)"
   ]
  },
  {
   "cell_type": "markdown",
   "metadata": {},
   "source": [
    "## Summary \n",
    "\n",
    "You've seen enough matrix algebra by now to solve a problem of linear equations as you saw earlier. You'll now see how to do this next. "
   ]
  }
 ],
 "metadata": {
  "kernelspec": {
   "display_name": "Python 3",
   "language": "python",
   "name": "python3"
  },
  "language_info": {
   "codemirror_mode": {
    "name": "ipython",
    "version": 3
   },
   "file_extension": ".py",
   "mimetype": "text/x-python",
   "name": "python",
   "nbconvert_exporter": "python",
   "pygments_lexer": "ipython3",
   "version": "3.7.3"
  }
 },
 "nbformat": 4,
 "nbformat_minor": 2
}
